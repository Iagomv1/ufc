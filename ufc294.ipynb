{
 "cells": [
  {
   "cell_type": "code",
   "execution_count": 2,
   "metadata": {},
   "outputs": [],
   "source": [
    "import pandas as pd\n",
    "import numpy as np"
   ]
  },
  {
   "cell_type": "code",
   "execution_count": 11,
   "metadata": {},
   "outputs": [
    {
     "data": {
      "text/plain": [
       "Index(['UFC_Page', 'cards', 'date', 'fights', 'fighter_1_Fighter',\n",
       "       'fighter_1_KD', 'fighter_1_Sig_Strike_Landed',\n",
       "       'fighter_1_Sig_Strike_Attempts', 'fighter_1_Sig_Strike_Percent',\n",
       "       'fighter_1_Strike_Landed', 'fighter_1_Strike_Attempts',\n",
       "       'fighter_1_TD_Landed', 'fighter_1_TD_Attempts', 'fighter_1_TD_Percent',\n",
       "       'fighter_1_Sub_Attempts', 'fighter_1_Pass', 'fighter_1_Rev',\n",
       "       'fighter_2_Fighter', 'fighter_2_KD', 'fighter_2_Sig_Strike_Landed',\n",
       "       'fighter_2_Sig_Strike_Attempts', 'fighter_2_Sig_Strike_Percent',\n",
       "       'fighter_2_Strike_Landed', 'fighter_2_Strike_Attempts',\n",
       "       'fighter_2_TD_Landed', 'fighter_2_TD_Attempts', 'fighter_2_TD_Percent',\n",
       "       'fighter_2_Sub_Attempts', 'fighter_2_Pass', 'fighter_2_Rev', 'method',\n",
       "       'round_finished', 'time', 'time_format', 'referee', 'fighter_1_res',\n",
       "       'fighter_2_res', 'weight_class'],\n",
       "      dtype='object')"
      ]
     },
     "execution_count": 11,
     "metadata": {},
     "output_type": "execute_result"
    }
   ],
   "source": [
    "data = pd.read_csv(r'C:\\Users\\Iago Vale\\Desktop\\UFC\\fight_data_raw.csv')\n",
    "data.columns"
   ]
  },
  {
   "cell_type": "code",
   "execution_count": 12,
   "metadata": {},
   "outputs": [
    {
     "data": {
      "text/plain": [
       "Index(['UFC_Page', 'cards', 'date', 'fights', 'fighter_1_Fighter',\n",
       "       'fighter_1_KD', 'fighter_1_Sig_Strike_Landed',\n",
       "       'fighter_1_Sig_Strike_Attempts', 'fighter_1_Sig_Strike_Percent',\n",
       "       'fighter_1_Strike_Landed', 'fighter_1_Strike_Attempts',\n",
       "       'fighter_1_TD_Landed', 'fighter_1_TD_Attempts', 'fighter_1_TD_Percent',\n",
       "       'fighter_1_Sub_Attempts', 'fighter_1_Pass', 'fighter_1_Rev',\n",
       "       'fighter_2_Fighter', 'fighter_2_KD', 'fighter_2_Sig_Strike_Landed',\n",
       "       'fighter_2_Sig_Strike_Attempts', 'fighter_2_Sig_Strike_Percent',\n",
       "       'fighter_2_Strike_Landed', 'fighter_2_Strike_Attempts',\n",
       "       'fighter_2_TD_Landed', 'fighter_2_TD_Attempts', 'fighter_2_TD_Percent',\n",
       "       'fighter_2_Sub_Attempts', 'fighter_2_Pass', 'fighter_2_Rev', 'method',\n",
       "       'round_finished', 'time', 'time_format', 'referee', 'fighter_1_res',\n",
       "       'fighter_2_res', 'weight_class'],\n",
       "      dtype='object')"
      ]
     },
     "execution_count": 12,
     "metadata": {},
     "output_type": "execute_result"
    }
   ],
   "source": [
    "data1 = pd.read_csv(r'C:\\Users\\Iago Vale\\Desktop\\UFC\\fight_data.csv')\n",
    "data.columns"
   ]
  }
 ],
 "metadata": {
  "kernelspec": {
   "display_name": "base",
   "language": "python",
   "name": "python3"
  },
  "language_info": {
   "codemirror_mode": {
    "name": "ipython",
    "version": 3
   },
   "file_extension": ".py",
   "mimetype": "text/x-python",
   "name": "python",
   "nbconvert_exporter": "python",
   "pygments_lexer": "ipython3",
   "version": "3.11.4"
  },
  "orig_nbformat": 4
 },
 "nbformat": 4,
 "nbformat_minor": 2
}
