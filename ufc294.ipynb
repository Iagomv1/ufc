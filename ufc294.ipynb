{
 "cells": [
  {
   "cell_type": "code",
   "execution_count": 14,
   "metadata": {},
   "outputs": [],
   "source": [
    "import pandas as pd\n",
    "import numpy as np\n",
    "from matplotlib import pyplot as plt"
   ]
  },
  {
   "cell_type": "code",
   "execution_count": 23,
   "metadata": {},
   "outputs": [],
   "source": [
    "data = pd.read_csv(r'C:\\Users\\Iago Vale\\Desktop\\UFC\\data\\fight_data.csv')"
   ]
  },
  {
   "cell_type": "code",
   "execution_count": 24,
   "metadata": {},
   "outputs": [
    {
     "name": "stdout",
     "output_type": "stream",
     "text": [
      "<class 'pandas.core.frame.DataFrame'>\n",
      "RangeIndex: 14638 entries, 0 to 14637\n",
      "Data columns (total 31 columns):\n",
      " #   Column                Non-Null Count  Dtype  \n",
      "---  ------                --------------  -----  \n",
      " 0   date                  14638 non-null  object \n",
      " 1   fight_pk              14638 non-null  int64  \n",
      " 2   fighter               14638 non-null  object \n",
      " 3   kd                    14638 non-null  int64  \n",
      " 4   kds_received          14638 non-null  int64  \n",
      " 5   method                14638 non-null  object \n",
      " 6   pass                  14638 non-null  int64  \n",
      " 7   res                   14638 non-null  object \n",
      " 8   rev                   0 non-null      float64\n",
      " 9   round_finished        14638 non-null  int64  \n",
      " 10  rounds                14638 non-null  int64  \n",
      " 11  sig_reg_mixture       14576 non-null  float64\n",
      " 12  sig_reg_percent       14576 non-null  float64\n",
      " 13  sig_strike_attempts   14638 non-null  int64  \n",
      " 14  sig_strike_landed     14638 non-null  int64  \n",
      " 15  sig_strike_percent    14638 non-null  float64\n",
      " 16  sig_strikes_avoided   14638 non-null  int64  \n",
      " 17  sig_strikes_received  14638 non-null  int64  \n",
      " 18  strike_attempts       14638 non-null  int64  \n",
      " 19  strike_landed         14638 non-null  int64  \n",
      " 20  strike_percent        14576 non-null  float64\n",
      " 21  strikes_avoided       14638 non-null  int64  \n",
      " 22  strikes_received      14638 non-null  int64  \n",
      " 23  sub_attempts          14638 non-null  int64  \n",
      " 24  td_attempts           14638 non-null  int64  \n",
      " 25  td_landed             14638 non-null  int64  \n",
      " 26  td_percent            14638 non-null  float64\n",
      " 27  tds_defended          14638 non-null  int64  \n",
      " 28  tds_received          14638 non-null  int64  \n",
      " 29  time                  14638 non-null  object \n",
      " 30  weight_class          14638 non-null  object \n",
      "dtypes: float64(6), int64(19), object(6)\n",
      "memory usage: 3.5+ MB\n"
     ]
    }
   ],
   "source": [
    "data.info()"
   ]
  },
  {
   "cell_type": "markdown",
   "metadata": {},
   "source": [
    "UFC294"
   ]
  },
  {
   "cell_type": "code",
   "execution_count": 25,
   "metadata": {},
   "outputs": [],
   "source": [
    "df_charles = data[data['fighter'] == 'Charles Oliveira']"
   ]
  },
  {
   "cell_type": "code",
   "execution_count": 58,
   "metadata": {},
   "outputs": [
    {
     "data": {
      "text/html": [
       "<div>\n",
       "<style scoped>\n",
       "    .dataframe tbody tr th:only-of-type {\n",
       "        vertical-align: middle;\n",
       "    }\n",
       "\n",
       "    .dataframe tbody tr th {\n",
       "        vertical-align: top;\n",
       "    }\n",
       "\n",
       "    .dataframe thead th {\n",
       "        text-align: right;\n",
       "    }\n",
       "</style>\n",
       "<table border=\"1\" class=\"dataframe\">\n",
       "  <thead>\n",
       "    <tr style=\"text-align: right;\">\n",
       "      <th></th>\n",
       "      <th>date</th>\n",
       "      <th>fight_pk</th>\n",
       "      <th>fighter</th>\n",
       "      <th>kd</th>\n",
       "      <th>kds_received</th>\n",
       "      <th>method</th>\n",
       "      <th>pass</th>\n",
       "      <th>res</th>\n",
       "      <th>rev</th>\n",
       "      <th>round_finished</th>\n",
       "      <th>...</th>\n",
       "      <th>strikes_avoided</th>\n",
       "      <th>strikes_received</th>\n",
       "      <th>sub_attempts</th>\n",
       "      <th>td_attempts</th>\n",
       "      <th>td_landed</th>\n",
       "      <th>td_percent</th>\n",
       "      <th>tds_defended</th>\n",
       "      <th>tds_received</th>\n",
       "      <th>time</th>\n",
       "      <th>weight_class</th>\n",
       "    </tr>\n",
       "  </thead>\n",
       "  <tbody>\n",
       "    <tr>\n",
       "      <th>348</th>\n",
       "      <td>2023-06-10</td>\n",
       "      <td>7145</td>\n",
       "      <td>Charles Oliveira</td>\n",
       "      <td>1</td>\n",
       "      <td>0</td>\n",
       "      <td>KO/TKO</td>\n",
       "      <td>0</td>\n",
       "      <td>W</td>\n",
       "      <td>NaN</td>\n",
       "      <td>1</td>\n",
       "      <td>...</td>\n",
       "      <td>27</td>\n",
       "      <td>32</td>\n",
       "      <td>0</td>\n",
       "      <td>1</td>\n",
       "      <td>0</td>\n",
       "      <td>0.0</td>\n",
       "      <td>0</td>\n",
       "      <td>0</td>\n",
       "      <td>04:10:00</td>\n",
       "      <td>Men_Lightweight</td>\n",
       "    </tr>\n",
       "    <tr>\n",
       "      <th>1460</th>\n",
       "      <td>2022-05-07</td>\n",
       "      <td>6589</td>\n",
       "      <td>Charles Oliveira</td>\n",
       "      <td>1</td>\n",
       "      <td>1</td>\n",
       "      <td>Submission</td>\n",
       "      <td>0</td>\n",
       "      <td>W</td>\n",
       "      <td>NaN</td>\n",
       "      <td>1</td>\n",
       "      <td>...</td>\n",
       "      <td>12</td>\n",
       "      <td>21</td>\n",
       "      <td>2</td>\n",
       "      <td>1</td>\n",
       "      <td>0</td>\n",
       "      <td>0.0</td>\n",
       "      <td>0</td>\n",
       "      <td>0</td>\n",
       "      <td>03:22:00</td>\n",
       "      <td>Men_Lightweight</td>\n",
       "    </tr>\n",
       "    <tr>\n",
       "      <th>1854</th>\n",
       "      <td>2021-12-11</td>\n",
       "      <td>6392</td>\n",
       "      <td>Charles Oliveira</td>\n",
       "      <td>0</td>\n",
       "      <td>1</td>\n",
       "      <td>Submission</td>\n",
       "      <td>1</td>\n",
       "      <td>W</td>\n",
       "      <td>NaN</td>\n",
       "      <td>3</td>\n",
       "      <td>...</td>\n",
       "      <td>36</td>\n",
       "      <td>69</td>\n",
       "      <td>3</td>\n",
       "      <td>6</td>\n",
       "      <td>0</td>\n",
       "      <td>0.0</td>\n",
       "      <td>0</td>\n",
       "      <td>0</td>\n",
       "      <td>01:02:00</td>\n",
       "      <td>Men_Lightweight</td>\n",
       "    </tr>\n",
       "    <tr>\n",
       "      <th>2458</th>\n",
       "      <td>2021-05-15</td>\n",
       "      <td>6090</td>\n",
       "      <td>Charles Oliveira</td>\n",
       "      <td>2</td>\n",
       "      <td>0</td>\n",
       "      <td>KO/TKO</td>\n",
       "      <td>0</td>\n",
       "      <td>W</td>\n",
       "      <td>NaN</td>\n",
       "      <td>2</td>\n",
       "      <td>...</td>\n",
       "      <td>25</td>\n",
       "      <td>36</td>\n",
       "      <td>0</td>\n",
       "      <td>2</td>\n",
       "      <td>1</td>\n",
       "      <td>0.5</td>\n",
       "      <td>0</td>\n",
       "      <td>0</td>\n",
       "      <td>00:19:00</td>\n",
       "      <td>Men_Lightweight</td>\n",
       "    </tr>\n",
       "    <tr>\n",
       "      <th>2873</th>\n",
       "      <td>2020-12-12</td>\n",
       "      <td>5883</td>\n",
       "      <td>Charles Oliveira</td>\n",
       "      <td>0</td>\n",
       "      <td>0</td>\n",
       "      <td>Decision</td>\n",
       "      <td>0</td>\n",
       "      <td>W</td>\n",
       "      <td>NaN</td>\n",
       "      <td>3</td>\n",
       "      <td>...</td>\n",
       "      <td>23</td>\n",
       "      <td>26</td>\n",
       "      <td>3</td>\n",
       "      <td>3</td>\n",
       "      <td>3</td>\n",
       "      <td>1.0</td>\n",
       "      <td>0</td>\n",
       "      <td>0</td>\n",
       "      <td>05:00:00</td>\n",
       "      <td>Men_Lightweight</td>\n",
       "    </tr>\n",
       "  </tbody>\n",
       "</table>\n",
       "<p>5 rows × 31 columns</p>\n",
       "</div>"
      ],
      "text/plain": [
       "            date  fight_pk           fighter  kd  kds_received      method  \\\n",
       "348   2023-06-10      7145  Charles Oliveira   1             0      KO/TKO   \n",
       "1460  2022-05-07      6589  Charles Oliveira   1             1  Submission   \n",
       "1854  2021-12-11      6392  Charles Oliveira   0             1  Submission   \n",
       "2458  2021-05-15      6090  Charles Oliveira   2             0      KO/TKO   \n",
       "2873  2020-12-12      5883  Charles Oliveira   0             0    Decision   \n",
       "\n",
       "      pass res  rev  round_finished  ...  strikes_avoided  strikes_received  \\\n",
       "348      0   W  NaN               1  ...               27                32   \n",
       "1460     0   W  NaN               1  ...               12                21   \n",
       "1854     1   W  NaN               3  ...               36                69   \n",
       "2458     0   W  NaN               2  ...               25                36   \n",
       "2873     0   W  NaN               3  ...               23                26   \n",
       "\n",
       "      sub_attempts  td_attempts  td_landed  td_percent  tds_defended  \\\n",
       "348              0            1          0         0.0             0   \n",
       "1460             2            1          0         0.0             0   \n",
       "1854             3            6          0         0.0             0   \n",
       "2458             0            2          1         0.5             0   \n",
       "2873             3            3          3         1.0             0   \n",
       "\n",
       "      tds_received      time     weight_class  \n",
       "348              0  04:10:00  Men_Lightweight  \n",
       "1460             0  03:22:00  Men_Lightweight  \n",
       "1854             0  01:02:00  Men_Lightweight  \n",
       "2458             0  00:19:00  Men_Lightweight  \n",
       "2873             0  05:00:00  Men_Lightweight  \n",
       "\n",
       "[5 rows x 31 columns]"
      ]
     },
     "execution_count": 58,
     "metadata": {},
     "output_type": "execute_result"
    }
   ],
   "source": [
    "vit_charles.head()"
   ]
  },
  {
   "cell_type": "code",
   "execution_count": 28,
   "metadata": {},
   "outputs": [
    {
     "data": {
      "text/plain": [
       "W    22\n",
       "L     9\n",
       "D     1\n",
       "Name: res, dtype: int64"
      ]
     },
     "execution_count": 28,
     "metadata": {},
     "output_type": "execute_result"
    }
   ],
   "source": [
    "# quantidade de vitórias, derrotas e empates\n",
    "df_charles['res'].value_counts()"
   ]
  },
  {
   "cell_type": "code",
   "execution_count": 50,
   "metadata": {},
   "outputs": [
    {
     "data": {
      "text/plain": [
       "(array([9., 0., 0., 0., 0., 6., 0., 0., 0., 7.]),\n",
       " array([1. , 1.2, 1.4, 1.6, 1.8, 2. , 2.2, 2.4, 2.6, 2.8, 3. ]),\n",
       " <BarContainer object of 10 artists>)"
      ]
     },
     "execution_count": 50,
     "metadata": {},
     "output_type": "execute_result"
    },
    {
     "data": {
      "image/png": "[encoded data removed]",
      "text/plain": [
       "<Figure size 640x480 with 1 Axes>"
      ]
     },
     "metadata": {},
     "output_type": "display_data"
    }
   ],
   "source": [
    "#df com as vitórias do charles e em qual round as vitórias acabaram.\n",
    "#segundo o gráfico abaixo, considerando as vitorias dele, ele finaliza 40.9% no primeiro round, 31.81% no segundo e 27.27% no terceiro.\n",
    "#lembrando que esses numeros contam inclusive disputas de cinturão (que duram 5 rounds)\n",
    "# (trazer uma retrospectiva das 5 ultimas lutasa dele e como foram finalizadas. )\n",
    "\n",
    "\n",
    "vit_charles = df_charles[df_charles['res'] == 'W']\n",
    "\n",
    "plt.xticks([1, 2, 3, 4, 5])\n",
    "plt.hist(vit_charles['round_finished'])"
   ]
  },
  {
   "cell_type": "code",
   "execution_count": 52,
   "metadata": {},
   "outputs": [
    {
     "data": {
      "text/plain": [
       "1    9\n",
       "3    7\n",
       "2    6\n",
       "Name: round_finished, dtype: int64"
      ]
     },
     "execution_count": 52,
     "metadata": {},
     "output_type": "execute_result"
    }
   ],
   "source": [
    "#proximas análises de vitoria:\n",
    "# entender quais as formas que ele mais vence.\n",
    "# ver se em lutas que ele toma mais kd ele ganha mais por submission\n",
    "\n",
    "\n",
    "\n",
    "#ver a evolução dele na trocação baseada em números\n"
   ]
  }
 ],
 "metadata": {
  "kernelspec": {
   "display_name": "base",
   "language": "python",
   "name": "python3"
  },
  "language_info": {
   "codemirror_mode": {
    "name": "ipython",
    "version": 3
   },
   "file_extension": ".py",
   "mimetype": "text/x-python",
   "name": "python",
   "nbconvert_exporter": "python",
   "pygments_lexer": "ipython3",
   "version": "3.11.4"
  },
  "orig_nbformat": 4
 },
 "nbformat": 4,
 "nbformat_minor": 2
}
