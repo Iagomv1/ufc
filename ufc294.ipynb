{
 "cells": [
  {
   "cell_type": "code",
   "execution_count": 2,
   "metadata": {},
   "outputs": [],
   "source": [
    "import pandas as pd\n",
    "import numpy as np\n",
    "from matplotlib import pyplot as plt"
   ]
  },
  {
   "cell_type": "code",
   "execution_count": 3,
   "metadata": {},
   "outputs": [],
   "source": [
    "data = pd.read_csv(r'C:\\Users\\Iago Vale\\Desktop\\UFC\\data\\fight_data.csv')"
   ]
  },
  {
   "cell_type": "code",
   "execution_count": 4,
   "metadata": {},
   "outputs": [
    {
     "name": "stdout",
     "output_type": "stream",
     "text": [
      "<class 'pandas.core.frame.DataFrame'>\n",
      "RangeIndex: 14638 entries, 0 to 14637\n",
      "Data columns (total 31 columns):\n",
      " #   Column                Non-Null Count  Dtype  \n",
      "---  ------                --------------  -----  \n",
      " 0   date                  14638 non-null  object \n",
      " 1   fight_pk              14638 non-null  int64  \n",
      " 2   fighter               14638 non-null  object \n",
      " 3   kd                    14638 non-null  int64  \n",
      " 4   kds_received          14638 non-null  int64  \n",
      " 5   method                14638 non-null  object \n",
      " 6   pass                  14638 non-null  int64  \n",
      " 7   res                   14638 non-null  object \n",
      " 8   rev                   0 non-null      float64\n",
      " 9   round_finished        14638 non-null  int64  \n",
      " 10  rounds                14638 non-null  int64  \n",
      " 11  sig_reg_mixture       14576 non-null  float64\n",
      " 12  sig_reg_percent       14576 non-null  float64\n",
      " 13  sig_strike_attempts   14638 non-null  int64  \n",
      " 14  sig_strike_landed     14638 non-null  int64  \n",
      " 15  sig_strike_percent    14638 non-null  float64\n",
      " 16  sig_strikes_avoided   14638 non-null  int64  \n",
      " 17  sig_strikes_received  14638 non-null  int64  \n",
      " 18  strike_attempts       14638 non-null  int64  \n",
      " 19  strike_landed         14638 non-null  int64  \n",
      " 20  strike_percent        14576 non-null  float64\n",
      " 21  strikes_avoided       14638 non-null  int64  \n",
      " 22  strikes_received      14638 non-null  int64  \n",
      " 23  sub_attempts          14638 non-null  int64  \n",
      " 24  td_attempts           14638 non-null  int64  \n",
      " 25  td_landed             14638 non-null  int64  \n",
      " 26  td_percent            14638 non-null  float64\n",
      " 27  tds_defended          14638 non-null  int64  \n",
      " 28  tds_received          14638 non-null  int64  \n",
      " 29  time                  14638 non-null  object \n",
      " 30  weight_class          14638 non-null  object \n",
      "dtypes: float64(6), int64(19), object(6)\n",
      "memory usage: 3.5+ MB\n"
     ]
    }
   ],
   "source": [
    "data.info()"
   ]
  },
  {
   "cell_type": "markdown",
   "metadata": {},
   "source": [
    "UFC294"
   ]
  },
  {
   "cell_type": "code",
   "execution_count": 5,
   "metadata": {},
   "outputs": [],
   "source": [
    "df_charles = data[data['fighter'] == 'Charles Oliveira']"
   ]
  },
  {
   "cell_type": "code",
   "execution_count": null,
   "metadata": {},
   "outputs": [
    {
     "data": {
      "text/plain": [
       "W    22\n",
       "L     9\n",
       "D     1\n",
       "Name: res, dtype: int64"
      ]
     },
     "execution_count": 28,
     "metadata": {},
     "output_type": "execute_result"
    }
   ],
   "source": [
    "# quantidade de vitórias, derrotas e empates\n",
    "df_charles['res'].value_counts()"
   ]
  },
  {
   "cell_type": "code",
   "execution_count": 7,
   "metadata": {},
   "outputs": [
    {
     "data": {
      "text/plain": [
       "(array([9., 0., 0., 0., 0., 6., 0., 0., 0., 7.]),\n",
       " array([1. , 1.2, 1.4, 1.6, 1.8, 2. , 2.2, 2.4, 2.6, 2.8, 3. ]),\n",
       " <BarContainer object of 10 artists>)"
      ]
     },
     "execution_count": 7,
     "metadata": {},
     "output_type": "execute_result"
    },
    {
     "data": {
      "image/png": "[encoded data removed]",
      "text/plain": [
       "<Figure size 640x480 with 1 Axes>"
      ]
     },
     "metadata": {},
     "output_type": "display_data"
    }
   ],
   "source": [
    "#df com as vitórias do charles e em qual round as vitórias acabaram.\n",
    "#segundo o gráfico abaixo, considerando as vitorias dele, ele finaliza 40.9% no primeiro round, 31.81% no segundo e 27.27% no terceiro.\n",
    "#lembrando que esses numeros contam inclusive disputas de cinturão (que duram 5 rounds)\n",
    "# (trazer uma retrospectiva das 5 ultimas lutasa dele e como foram finalizadas. )\n",
    "\n",
    "\n",
    "vit_charles = df_charles[df_charles['res'] == 'W']\n",
    "\n",
    "plt.xticks([1, 2, 3, 4, 5])\n",
    "plt.hist(vit_charles['round_finished'])"
   ]
  },
  {
   "cell_type": "code",
   "execution_count": 23,
   "metadata": {},
   "outputs": [
    {
     "data": {
      "text/plain": [
       "Submission    16\n",
       "KO/TKO         4\n",
       "Decision       2\n",
       "Name: method, dtype: int64"
      ]
     },
     "execution_count": 23,
     "metadata": {},
     "output_type": "execute_result"
    },
    {
     "data": {
      "image/png": "[encoded data removed]",
      "text/plain": [
       "<Figure size 640x480 with 1 Axes>"
      ]
     },
     "metadata": {},
     "output_type": "display_data"
    }
   ],
   "source": [
    "#considerando as lutas que ele venceu, temos que 16 delas foram via finalização\n",
    "\n",
    "plt.hist(vit_charles['method'])\n",
    "vit_charles['method'].value_counts()"
   ]
  },
  {
   "cell_type": "code",
   "execution_count": 30,
   "metadata": {},
   "outputs": [
    {
     "data": {
      "text/plain": [
       "348      0.765957\n",
       "978      0.847826\n",
       "1460     0.903846\n",
       "1854     0.834395\n",
       "2458     0.780488\n",
       "2873     0.562500\n",
       "3569     0.890411\n",
       "3838     1.000000\n",
       "4402     0.921875\n",
       "4744     0.950820\n",
       "4823     0.500000\n",
       "5072     1.000000\n",
       "5363     1.000000\n",
       "5816     0.650000\n",
       "6453     1.000000\n",
       "6873     0.428571\n",
       "7035     0.819048\n",
       "7646     0.625000\n",
       "7919     1.000000\n",
       "8199     0.800000\n",
       "8635     0.670000\n",
       "9131     0.730769\n",
       "9484     0.544304\n",
       "9991     0.856164\n",
       "10567    0.818182\n",
       "10763    0.926829\n",
       "10996    0.923077\n",
       "11309    1.000000\n",
       "11389    0.634409\n",
       "11649    0.666667\n",
       "11797    0.771186\n",
       "11873    1.000000\n",
       "Name: sig_reg_mixture, dtype: float64"
      ]
     },
     "execution_count": 30,
     "metadata": {},
     "output_type": "execute_result"
    }
   ],
   "source": [
    "df_charles['sig_reg_mixture']"
   ]
  }
 ],
 "metadata": {
  "kernelspec": {
   "display_name": "base",
   "language": "python",
   "name": "python3"
  },
  "language_info": {
   "codemirror_mode": {
    "name": "ipython",
    "version": 3
   },
   "file_extension": ".py",
   "mimetype": "text/x-python",
   "name": "python",
   "nbconvert_exporter": "python",
   "pygments_lexer": "ipython3",
   "version": "3.11.4"
  },
  "orig_nbformat": 4
 },
 "nbformat": 4,
 "nbformat_minor": 2
}
